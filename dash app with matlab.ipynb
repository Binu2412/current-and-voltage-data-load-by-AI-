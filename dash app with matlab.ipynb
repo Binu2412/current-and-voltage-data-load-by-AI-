{
  "nbformat": 4,
  "nbformat_minor": 0,
  "metadata": {
    "colab": {
      "provenance": [],
      "authorship_tag": "ABX9TyOYbH+/joiXOdgy8YVdd0N7",
      "include_colab_link": true
    },
    "kernelspec": {
      "name": "python3",
      "display_name": "Python 3"
    },
    "language_info": {
      "name": "python"
    }
  },
  "cells": [
    {
      "cell_type": "markdown",
      "metadata": {
        "id": "view-in-github",
        "colab_type": "text"
      },
      "source": [
        "<a href=\"https://colab.research.google.com/github/Binu2412/current-and-voltage-data-load-by-AI-/blob/main/dash%20app%20with%20matlab.ipynb\" target=\"_parent\"><img src=\"https://colab.research.google.com/assets/colab-badge.svg\" alt=\"Open In Colab\"/></a>"
      ]
    },
    {
      "cell_type": "code",
      "execution_count": 4,
      "metadata": {
        "colab": {
          "base_uri": "https://localhost:8080/"
        },
        "id": "WpJGzlD_8ngX",
        "outputId": "87bc6653-1106-4d04-cb7f-ed9e706bc50e"
      },
      "outputs": [
        {
          "output_type": "stream",
          "name": "stdout",
          "text": [
            "Requirement already satisfied: dash in /usr/local/lib/python3.10/dist-packages (2.18.1)\n",
            "Requirement already satisfied: plotly in /usr/local/lib/python3.10/dist-packages (5.15.0)\n",
            "Requirement already satisfied: numpy in /usr/local/lib/python3.10/dist-packages (1.26.4)\n",
            "Requirement already satisfied: matplotlib in /usr/local/lib/python3.10/dist-packages (3.7.1)\n",
            "Requirement already satisfied: scipy in /usr/local/lib/python3.10/dist-packages (1.13.1)\n",
            "Requirement already satisfied: pyngrok in /usr/local/lib/python3.10/dist-packages (7.2.0)\n",
            "Requirement already satisfied: Flask<3.1,>=1.0.4 in /usr/local/lib/python3.10/dist-packages (from dash) (2.2.5)\n",
            "Requirement already satisfied: Werkzeug<3.1 in /usr/local/lib/python3.10/dist-packages (from dash) (3.0.4)\n",
            "Requirement already satisfied: dash-html-components==2.0.0 in /usr/local/lib/python3.10/dist-packages (from dash) (2.0.0)\n",
            "Requirement already satisfied: dash-core-components==2.0.0 in /usr/local/lib/python3.10/dist-packages (from dash) (2.0.0)\n",
            "Requirement already satisfied: dash-table==5.0.0 in /usr/local/lib/python3.10/dist-packages (from dash) (5.0.0)\n",
            "Requirement already satisfied: importlib-metadata in /usr/local/lib/python3.10/dist-packages (from dash) (8.5.0)\n",
            "Requirement already satisfied: typing-extensions>=4.1.1 in /usr/local/lib/python3.10/dist-packages (from dash) (4.12.2)\n",
            "Requirement already satisfied: requests in /usr/local/lib/python3.10/dist-packages (from dash) (2.32.3)\n",
            "Requirement already satisfied: retrying in /usr/local/lib/python3.10/dist-packages (from dash) (1.3.4)\n",
            "Requirement already satisfied: nest-asyncio in /usr/local/lib/python3.10/dist-packages (from dash) (1.6.0)\n",
            "Requirement already satisfied: setuptools in /usr/local/lib/python3.10/dist-packages (from dash) (71.0.4)\n",
            "Requirement already satisfied: tenacity>=6.2.0 in /usr/local/lib/python3.10/dist-packages (from plotly) (9.0.0)\n",
            "Requirement already satisfied: packaging in /usr/local/lib/python3.10/dist-packages (from plotly) (24.1)\n",
            "Requirement already satisfied: contourpy>=1.0.1 in /usr/local/lib/python3.10/dist-packages (from matplotlib) (1.3.0)\n",
            "Requirement already satisfied: cycler>=0.10 in /usr/local/lib/python3.10/dist-packages (from matplotlib) (0.12.1)\n",
            "Requirement already satisfied: fonttools>=4.22.0 in /usr/local/lib/python3.10/dist-packages (from matplotlib) (4.53.1)\n",
            "Requirement already satisfied: kiwisolver>=1.0.1 in /usr/local/lib/python3.10/dist-packages (from matplotlib) (1.4.7)\n",
            "Requirement already satisfied: pillow>=6.2.0 in /usr/local/lib/python3.10/dist-packages (from matplotlib) (10.4.0)\n",
            "Requirement already satisfied: pyparsing>=2.3.1 in /usr/local/lib/python3.10/dist-packages (from matplotlib) (3.1.4)\n",
            "Requirement already satisfied: python-dateutil>=2.7 in /usr/local/lib/python3.10/dist-packages (from matplotlib) (2.8.2)\n",
            "Requirement already satisfied: PyYAML>=5.1 in /usr/local/lib/python3.10/dist-packages (from pyngrok) (6.0.2)\n",
            "Requirement already satisfied: Jinja2>=3.0 in /usr/local/lib/python3.10/dist-packages (from Flask<3.1,>=1.0.4->dash) (3.1.4)\n",
            "Requirement already satisfied: itsdangerous>=2.0 in /usr/local/lib/python3.10/dist-packages (from Flask<3.1,>=1.0.4->dash) (2.2.0)\n",
            "Requirement already satisfied: click>=8.0 in /usr/local/lib/python3.10/dist-packages (from Flask<3.1,>=1.0.4->dash) (8.1.7)\n",
            "Requirement already satisfied: six>=1.5 in /usr/local/lib/python3.10/dist-packages (from python-dateutil>=2.7->matplotlib) (1.16.0)\n",
            "Requirement already satisfied: MarkupSafe>=2.1.1 in /usr/local/lib/python3.10/dist-packages (from Werkzeug<3.1->dash) (2.1.5)\n",
            "Requirement already satisfied: zipp>=3.20 in /usr/local/lib/python3.10/dist-packages (from importlib-metadata->dash) (3.20.2)\n",
            "Requirement already satisfied: charset-normalizer<4,>=2 in /usr/local/lib/python3.10/dist-packages (from requests->dash) (3.3.2)\n",
            "Requirement already satisfied: idna<4,>=2.5 in /usr/local/lib/python3.10/dist-packages (from requests->dash) (3.10)\n",
            "Requirement already satisfied: urllib3<3,>=1.21.1 in /usr/local/lib/python3.10/dist-packages (from requests->dash) (2.0.7)\n",
            "Requirement already satisfied: certifi>=2017.4.17 in /usr/local/lib/python3.10/dist-packages (from requests->dash) (2024.8.30)\n"
          ]
        }
      ],
      "source": [
        "!pip install dash plotly numpy matplotlib scipy pyngrok\n",
        "\n"
      ]
    },
    {
      "cell_type": "code",
      "source": [
        "# prompt: bulid the power quality analyser with AI\n",
        "\n",
        "import dash\n",
        "import dash_core_components as dcc\n",
        "import dash_html_components as html\n",
        "import plotly.graph_objs as go\n",
        "import numpy as np\n",
        "import matplotlib.pyplot as plt\n",
        "from scipy import signal\n",
        "from pyngrok import ngrok\n",
        "\n",
        "# Sample voltage and current data (replace with your actual data)\n",
        "time = np.linspace(0, 1, 1000)\n",
        "voltage = 230 + 10 * np.sin(2 * np.pi * 50 * time) + 5 * np.random.randn(1000)\n",
        "current = 10 * np.sin(2 * np.pi * 50 * time + 0.2) + 0.5 * np.random.randn(1000)\n",
        "\n",
        "\n",
        "# Function to calculate power and power factor\n",
        "def calculate_power(voltage, current):\n",
        "    power = voltage * current\n",
        "    apparent_power = np.sqrt(np.mean(voltage**2) * np.mean(current**2))\n",
        "    power_factor = np.mean(power) / apparent_power\n",
        "    return power, apparent_power, power_factor\n",
        "\n",
        "# Function to analyze power quality (THD, sags, swells, etc.)\n",
        "def analyze_power_quality(voltage, current):\n",
        "    # Implement your AI-based analysis here\n",
        "    # This is a placeholder and needs to be replaced with your actual algorithm\n",
        "    thd_voltage = calculate_thd(voltage)\n",
        "    thd_current = calculate_thd(current)\n",
        "    # ... other analysis (sags, swells, harmonics, etc.)\n",
        "\n",
        "    return thd_voltage, thd_current\n",
        "\n",
        "def calculate_thd(signal):\n",
        "    # Calculate THD (Total Harmonic Distortion)\n",
        "    harmonics = signal.find_peaks(signal)\n",
        "    # ... further analysis of harmonic components\n",
        "\n",
        "    return 0.1 # Replace with actual THD value\n",
        "\n",
        "# Create the Dash app\n",
        "app = dash.Dash(__name__)\n",
        "app.layout = html.Div(children=[\n",
        "    html.H1(children=\"Power Quality Analyzer\"),\n",
        "\n",
        "    dcc.Graph(\n",
        "        id='voltage-graph',\n",
        "        figure={\n",
        "            'data': [\n",
        "                go.Scatter(x=time, y=voltage, mode='lines', name='Voltage')\n",
        "            ],\n",
        "            'layout': go.Layout(title='Voltage Waveform')\n",
        "        }\n",
        "    ),\n",
        "\n",
        "    dcc.Graph(\n",
        "        id='current-graph',\n",
        "        figure={\n",
        "            'data': [\n",
        "                go.Scatter(x=time, y=current, mode='lines', name='Current')\n",
        "            ],\n",
        "            'layout': go.Layout(title='Current Waveform')\n",
        "        }\n",
        "    ),\n",
        "\n",
        "    html.Div(id='power-quality-results')\n",
        "])\n",
        "\n",
        "# Define a callback to update the power quality results\n",
        "#@app.callback(Output('power-quality-results', 'children'),\n",
        "#              [Input('voltage-graph', 'hoverData'),\n",
        "#               Input('current-graph', 'hoverData')])\n",
        "#def update_power_quality(voltage_hover, current_hover):\n",
        "#    # Placeholder: Implement actual analysis based on hover data\n",
        "#    # and the analyze_power_quality function\n",
        "#    return \"THD Voltage: 5%, THD Current: 2%, Power Factor: 0.95\"\n",
        "\n",
        "\n"
      ],
      "metadata": {
        "id": "ie0QikJ--Mho"
      },
      "execution_count": 7,
      "outputs": []
    },
    {
      "cell_type": "code",
      "source": [
        "from dash import Dash, html\n",
        "\n",
        "app = Dash()\n",
        "\n",
        "app.layout = [html.Div(children='Hello World')]\n",
        "\n",
        "if __name__ == '__main__':\n",
        "    app.run(debug=True)"
      ],
      "metadata": {
        "colab": {
          "base_uri": "https://localhost:8080/",
          "height": 672
        },
        "id": "GqqkzJc2DNS3",
        "outputId": "a0104acc-0d13-4ecc-a7ff-c67e8c5be773"
      },
      "execution_count": 9,
      "outputs": [
        {
          "output_type": "display_data",
          "data": {
            "text/plain": [
              "<IPython.core.display.Javascript object>"
            ],
            "application/javascript": [
              "(async (port, path, width, height, cache, element) => {\n",
              "    if (!google.colab.kernel.accessAllowed && !cache) {\n",
              "      return;\n",
              "    }\n",
              "    element.appendChild(document.createTextNode(''));\n",
              "    const url = await google.colab.kernel.proxyPort(port, {cache});\n",
              "    const iframe = document.createElement('iframe');\n",
              "    iframe.src = new URL(path, url).toString();\n",
              "    iframe.height = height;\n",
              "    iframe.width = width;\n",
              "    iframe.style.border = 0;\n",
              "    iframe.allow = [\n",
              "        'accelerometer',\n",
              "        'autoplay',\n",
              "        'camera',\n",
              "        'clipboard-read',\n",
              "        'clipboard-write',\n",
              "        'gyroscope',\n",
              "        'magnetometer',\n",
              "        'microphone',\n",
              "        'serial',\n",
              "        'usb',\n",
              "        'xr-spatial-tracking',\n",
              "    ].join('; ');\n",
              "    element.appendChild(iframe);\n",
              "  })(8050, \"/\", \"100%\", 650, false, window.element)"
            ]
          },
          "metadata": {}
        }
      ]
    },
    {
      "cell_type": "code",
      "source": [
        "from dash import Dash, html, dash_table\n",
        "import pandas as pd"
      ],
      "metadata": {
        "id": "gsA30ag2D1xZ"
      },
      "execution_count": 10,
      "outputs": []
    },
    {
      "cell_type": "code",
      "source": [
        "df = pd.read_csv('/content/dataset_tk.csv')"
      ],
      "metadata": {
        "id": "ig_JgTMmERQB"
      },
      "execution_count": 11,
      "outputs": []
    },
    {
      "cell_type": "code",
      "source": [
        "app = Dash()\n",
        "\n",
        "# App layout\n",
        "app.layout = [\n",
        "    html.Div(children='My First App with Data'),\n",
        "    dash_table.DataTable(data=df.to_dict('records'), page_size=10)\n",
        "]\n",
        "\n",
        "# Run the app\n",
        "if __name__ == '__main__':\n",
        "    app.run(debug=True)"
      ],
      "metadata": {
        "colab": {
          "base_uri": "https://localhost:8080/",
          "height": 672
        },
        "id": "qOG--niXEsgj",
        "outputId": "01c041b6-34f5-444b-c453-b5c2a40889fc"
      },
      "execution_count": 12,
      "outputs": [
        {
          "output_type": "display_data",
          "data": {
            "text/plain": [
              "<IPython.core.display.Javascript object>"
            ],
            "application/javascript": [
              "(async (port, path, width, height, cache, element) => {\n",
              "    if (!google.colab.kernel.accessAllowed && !cache) {\n",
              "      return;\n",
              "    }\n",
              "    element.appendChild(document.createTextNode(''));\n",
              "    const url = await google.colab.kernel.proxyPort(port, {cache});\n",
              "    const iframe = document.createElement('iframe');\n",
              "    iframe.src = new URL(path, url).toString();\n",
              "    iframe.height = height;\n",
              "    iframe.width = width;\n",
              "    iframe.style.border = 0;\n",
              "    iframe.allow = [\n",
              "        'accelerometer',\n",
              "        'autoplay',\n",
              "        'camera',\n",
              "        'clipboard-read',\n",
              "        'clipboard-write',\n",
              "        'gyroscope',\n",
              "        'magnetometer',\n",
              "        'microphone',\n",
              "        'serial',\n",
              "        'usb',\n",
              "        'xr-spatial-tracking',\n",
              "    ].join('; ');\n",
              "    element.appendChild(iframe);\n",
              "  })(8050, \"/\", \"100%\", 650, false, window.element)"
            ]
          },
          "metadata": {}
        }
      ]
    },
    {
      "cell_type": "code",
      "source": [
        "# prompt: give the above code with matlab visualization\n",
        "\n",
        "import dash\n",
        "import dash_core_components as dcc\n",
        "import dash_html_components as html\n",
        "import plotly.graph_objs as go\n",
        "import numpy as np\n",
        "import matplotlib.pyplot as plt\n",
        "from scipy import signal\n",
        "from pyngrok import ngrok\n",
        "from dash import Dash, html\n",
        "from dash import Dash, html, dash_table\n",
        "import pandas as pd\n",
        "!pip install dash plotly numpy matplotlib scipy pyngrok\n",
        "\n",
        "\n",
        "# Sample voltage and current data (replace with your actual data)\n",
        "time = np.linspace(0, 1, 1000)\n",
        "voltage = 230 + 10 * np.sin(2 * np.pi * 50 * time) + 5 * np.random.randn(1000)\n",
        "current = 10 * np.sin(2 * np.pi * 50 * time + 0.2) + 0.5 * np.random.randn(1000)\n",
        "\n",
        "\n",
        "# Function to calculate power and power factor\n",
        "def calculate_power(voltage, current):\n",
        "    power = voltage * current\n",
        "    apparent_power = np.sqrt(np.mean(voltage**2) * np.mean(current**2))\n",
        "    power_factor = np.mean(power) / apparent_power\n",
        "    return power, apparent_power, power_factor\n",
        "\n",
        "# Function to analyze power quality (THD, sags, swells, etc.)\n",
        "def analyze_power_quality(voltage, current):\n",
        "    # Implement your AI-based analysis here\n",
        "    # This is a placeholder and needs to be replaced with your actual algorithm\n",
        "    thd_voltage = calculate_thd(voltage)\n",
        "    thd_current = calculate_thd(current)\n",
        "    # ... other analysis (sags, swells, harmonics, etc.)\n",
        "\n",
        "    return thd_voltage, thd_current\n",
        "\n",
        "def calculate_thd(signal):\n",
        "    # Calculate THD (Total Harmonic Distortion)\n",
        "    harmonics = signal.find_peaks(signal)\n",
        "    # ... further analysis of harmonic components\n",
        "\n",
        "    return 0.1 # Replace with actual THD value\n",
        "\n",
        "# Create the Dash app\n",
        "app = dash.Dash(__name__)\n",
        "app.layout = html.Div(children=[\n",
        "    html.H1(children=\"Power Quality Analyzer\"),\n",
        "\n",
        "    dcc.Graph(\n",
        "        id='voltage-graph',\n",
        "        figure={\n",
        "            'data': [\n",
        "                go.Scatter(x=time, y=voltage, mode='lines', name='Voltage')\n",
        "            ],\n",
        "            'layout': go.Layout(title='Voltage Waveform')\n",
        "        }\n",
        "    ),\n",
        "\n",
        "    dcc.Graph(\n",
        "        id='current-graph',\n",
        "        figure={\n",
        "            'data': [\n",
        "                go.Scatter(x=time, y=current, mode='lines', name='Current')\n",
        "            ],\n",
        "            'layout': go.Layout(title='Current Waveform')\n",
        "        }\n",
        "    ),\n",
        "\n",
        "    html.Div(id='power-quality-results')\n",
        "])\n",
        "\n",
        "# Define a callback to update the power quality results\n",
        "#@app.callback(Output('power-quality-results', 'children'),\n",
        "#              [Input('voltage-graph', 'hoverData'),\n",
        "#               Input('current-graph', 'hoverData')])\n",
        "#def update_power_quality(voltage_hover, current_hover):\n",
        "#    # Placeholder: Implement actual analysis based on hover data\n",
        "#    # and the analyze_power_quality function\n",
        "#    return \"THD Voltage: 5%, THD Current: 2%, Power Factor: 0.95\"\n",
        "\n",
        "\n",
        "\n",
        "\n",
        "app = Dash()\n",
        "\n",
        "app.layout = [html.Div(children='Hello World')]\n",
        "\n",
        "if __name__ == '__main__':\n",
        "    app.run(debug=True)\n",
        "df = pd.read_csv('/content/dataset_tk.csv')\n",
        "app = Dash()\n",
        "\n",
        "# App layout\n",
        "app.layout = [\n",
        "    html.Div(children='My First App with Data'),\n",
        "    dash_table.DataTable(data=df.to_dict('records'), page_size=10)\n",
        "]\n",
        "\n",
        "# Run the app\n",
        "if __name__ == '__main__':\n",
        "    app.run(debug=True)\n",
        "\n",
        "\n",
        "#To visualize the data with MATLAB, you'd typically export the data from Python to a format that MATLAB can read (e.g., CSV or MAT file). Then, you'd use MATLAB's built-in plotting functions to create the graphs.\n",
        "\n",
        "# Here's a basic example of how you can export the data to a CSV file and then visualize it in MATLAB:\n",
        "import pandas as pd\n",
        "\n",
        "df = pd.DataFrame({'time': time, 'voltage': voltage, 'current': current})\n",
        "df.to_csv('power_data.csv', index=False)\n",
        "\n",
        "#In MATLAB, you would then use these steps:\n",
        "\n",
        "#1. Load the data from the CSV file into MATLAB using the `csvread` or `readtable` function.\n",
        "#2. Create a figure using the `figure` command.\n",
        "#3. Plot the data using the `plot` command.\n",
        "#4. Add labels and a title to the plot.\n",
        "\n",
        "#Here's a MATLAB example:\n",
        "#"
      ],
      "metadata": {
        "colab": {
          "base_uri": "https://localhost:8080/",
          "height": 1000
        },
        "id": "SzUCZOjqE2nh",
        "outputId": "17b0d612-bb52-448f-80c5-887039f49c0d"
      },
      "execution_count": 13,
      "outputs": [
        {
          "output_type": "stream",
          "name": "stdout",
          "text": [
            "Requirement already satisfied: dash in /usr/local/lib/python3.10/dist-packages (2.18.1)\n",
            "Requirement already satisfied: plotly in /usr/local/lib/python3.10/dist-packages (5.15.0)\n",
            "Requirement already satisfied: numpy in /usr/local/lib/python3.10/dist-packages (1.26.4)\n",
            "Requirement already satisfied: matplotlib in /usr/local/lib/python3.10/dist-packages (3.7.1)\n",
            "Requirement already satisfied: scipy in /usr/local/lib/python3.10/dist-packages (1.13.1)\n",
            "Requirement already satisfied: pyngrok in /usr/local/lib/python3.10/dist-packages (7.2.0)\n",
            "Requirement already satisfied: Flask<3.1,>=1.0.4 in /usr/local/lib/python3.10/dist-packages (from dash) (2.2.5)\n",
            "Requirement already satisfied: Werkzeug<3.1 in /usr/local/lib/python3.10/dist-packages (from dash) (3.0.4)\n",
            "Requirement already satisfied: dash-html-components==2.0.0 in /usr/local/lib/python3.10/dist-packages (from dash) (2.0.0)\n",
            "Requirement already satisfied: dash-core-components==2.0.0 in /usr/local/lib/python3.10/dist-packages (from dash) (2.0.0)\n",
            "Requirement already satisfied: dash-table==5.0.0 in /usr/local/lib/python3.10/dist-packages (from dash) (5.0.0)\n",
            "Requirement already satisfied: importlib-metadata in /usr/local/lib/python3.10/dist-packages (from dash) (8.5.0)\n",
            "Requirement already satisfied: typing-extensions>=4.1.1 in /usr/local/lib/python3.10/dist-packages (from dash) (4.12.2)\n",
            "Requirement already satisfied: requests in /usr/local/lib/python3.10/dist-packages (from dash) (2.32.3)\n",
            "Requirement already satisfied: retrying in /usr/local/lib/python3.10/dist-packages (from dash) (1.3.4)\n",
            "Requirement already satisfied: nest-asyncio in /usr/local/lib/python3.10/dist-packages (from dash) (1.6.0)\n",
            "Requirement already satisfied: setuptools in /usr/local/lib/python3.10/dist-packages (from dash) (71.0.4)\n",
            "Requirement already satisfied: tenacity>=6.2.0 in /usr/local/lib/python3.10/dist-packages (from plotly) (9.0.0)\n",
            "Requirement already satisfied: packaging in /usr/local/lib/python3.10/dist-packages (from plotly) (24.1)\n",
            "Requirement already satisfied: contourpy>=1.0.1 in /usr/local/lib/python3.10/dist-packages (from matplotlib) (1.3.0)\n",
            "Requirement already satisfied: cycler>=0.10 in /usr/local/lib/python3.10/dist-packages (from matplotlib) (0.12.1)\n",
            "Requirement already satisfied: fonttools>=4.22.0 in /usr/local/lib/python3.10/dist-packages (from matplotlib) (4.53.1)\n",
            "Requirement already satisfied: kiwisolver>=1.0.1 in /usr/local/lib/python3.10/dist-packages (from matplotlib) (1.4.7)\n",
            "Requirement already satisfied: pillow>=6.2.0 in /usr/local/lib/python3.10/dist-packages (from matplotlib) (10.4.0)\n",
            "Requirement already satisfied: pyparsing>=2.3.1 in /usr/local/lib/python3.10/dist-packages (from matplotlib) (3.1.4)\n",
            "Requirement already satisfied: python-dateutil>=2.7 in /usr/local/lib/python3.10/dist-packages (from matplotlib) (2.8.2)\n",
            "Requirement already satisfied: PyYAML>=5.1 in /usr/local/lib/python3.10/dist-packages (from pyngrok) (6.0.2)\n",
            "Requirement already satisfied: Jinja2>=3.0 in /usr/local/lib/python3.10/dist-packages (from Flask<3.1,>=1.0.4->dash) (3.1.4)\n",
            "Requirement already satisfied: itsdangerous>=2.0 in /usr/local/lib/python3.10/dist-packages (from Flask<3.1,>=1.0.4->dash) (2.2.0)\n",
            "Requirement already satisfied: click>=8.0 in /usr/local/lib/python3.10/dist-packages (from Flask<3.1,>=1.0.4->dash) (8.1.7)\n",
            "Requirement already satisfied: six>=1.5 in /usr/local/lib/python3.10/dist-packages (from python-dateutil>=2.7->matplotlib) (1.16.0)\n",
            "Requirement already satisfied: MarkupSafe>=2.1.1 in /usr/local/lib/python3.10/dist-packages (from Werkzeug<3.1->dash) (2.1.5)\n",
            "Requirement already satisfied: zipp>=3.20 in /usr/local/lib/python3.10/dist-packages (from importlib-metadata->dash) (3.20.2)\n",
            "Requirement already satisfied: charset-normalizer<4,>=2 in /usr/local/lib/python3.10/dist-packages (from requests->dash) (3.3.2)\n",
            "Requirement already satisfied: idna<4,>=2.5 in /usr/local/lib/python3.10/dist-packages (from requests->dash) (3.10)\n",
            "Requirement already satisfied: urllib3<3,>=1.21.1 in /usr/local/lib/python3.10/dist-packages (from requests->dash) (2.0.7)\n",
            "Requirement already satisfied: certifi>=2017.4.17 in /usr/local/lib/python3.10/dist-packages (from requests->dash) (2024.8.30)\n"
          ]
        },
        {
          "output_type": "display_data",
          "data": {
            "text/plain": [
              "<IPython.core.display.Javascript object>"
            ],
            "application/javascript": [
              "(async (port, path, width, height, cache, element) => {\n",
              "    if (!google.colab.kernel.accessAllowed && !cache) {\n",
              "      return;\n",
              "    }\n",
              "    element.appendChild(document.createTextNode(''));\n",
              "    const url = await google.colab.kernel.proxyPort(port, {cache});\n",
              "    const iframe = document.createElement('iframe');\n",
              "    iframe.src = new URL(path, url).toString();\n",
              "    iframe.height = height;\n",
              "    iframe.width = width;\n",
              "    iframe.style.border = 0;\n",
              "    iframe.allow = [\n",
              "        'accelerometer',\n",
              "        'autoplay',\n",
              "        'camera',\n",
              "        'clipboard-read',\n",
              "        'clipboard-write',\n",
              "        'gyroscope',\n",
              "        'magnetometer',\n",
              "        'microphone',\n",
              "        'serial',\n",
              "        'usb',\n",
              "        'xr-spatial-tracking',\n",
              "    ].join('; ');\n",
              "    element.appendChild(iframe);\n",
              "  })(8050, \"/\", \"100%\", 650, false, window.element)"
            ]
          },
          "metadata": {}
        },
        {
          "output_type": "display_data",
          "data": {
            "text/plain": [
              "<IPython.core.display.Javascript object>"
            ],
            "application/javascript": [
              "(async (port, path, width, height, cache, element) => {\n",
              "    if (!google.colab.kernel.accessAllowed && !cache) {\n",
              "      return;\n",
              "    }\n",
              "    element.appendChild(document.createTextNode(''));\n",
              "    const url = await google.colab.kernel.proxyPort(port, {cache});\n",
              "    const iframe = document.createElement('iframe');\n",
              "    iframe.src = new URL(path, url).toString();\n",
              "    iframe.height = height;\n",
              "    iframe.width = width;\n",
              "    iframe.style.border = 0;\n",
              "    iframe.allow = [\n",
              "        'accelerometer',\n",
              "        'autoplay',\n",
              "        'camera',\n",
              "        'clipboard-read',\n",
              "        'clipboard-write',\n",
              "        'gyroscope',\n",
              "        'magnetometer',\n",
              "        'microphone',\n",
              "        'serial',\n",
              "        'usb',\n",
              "        'xr-spatial-tracking',\n",
              "    ].join('; ');\n",
              "    element.appendChild(iframe);\n",
              "  })(8050, \"/\", \"100%\", 650, false, window.element)"
            ]
          },
          "metadata": {}
        }
      ]
    }
  ]
}