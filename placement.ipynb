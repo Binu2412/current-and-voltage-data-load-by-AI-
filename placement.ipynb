{
  "nbformat": 4,
  "nbformat_minor": 0,
  "metadata": {
    "colab": {
      "provenance": [],
      "authorship_tag": "ABX9TyOzIUDtnE6BgAlCjrld6VPY",
      "include_colab_link": true
    },
    "kernelspec": {
      "name": "python3",
      "display_name": "Python 3"
    },
    "language_info": {
      "name": "python"
    }
  },
  "cells": [
    {
      "cell_type": "markdown",
      "metadata": {
        "id": "view-in-github",
        "colab_type": "text"
      },
      "source": [
        "<a href=\"https://colab.research.google.com/github/Binu2412/current-and-voltage-data-load-by-AI-/blob/main/placement.ipynb\" target=\"_parent\"><img src=\"https://colab.research.google.com/assets/colab-badge.svg\" alt=\"Open In Colab\"/></a>"
      ]
    },
    {
      "cell_type": "code",
      "execution_count": 1,
      "metadata": {
        "colab": {
          "base_uri": "https://localhost:8080/"
        },
        "id": "HhNH2LRE64v-",
        "outputId": "70208cab-4c28-45bb-d2e3-906da46230b6"
      },
      "outputs": [
        {
          "output_type": "stream",
          "name": "stdout",
          "text": [
            "Enter company name: vais\n",
            "Enter minimum CGPA required: 8\n",
            "Enter maximum arrears allowed: 2\n",
            "Enter maximum backlogs allowed: 1\n",
            "Student: BINU\n",
            "Company: vais\n",
            "The student is Eligible for the company.\n",
            "--------------------\n",
            "Student: ALLEN\n",
            "Company: vais\n",
            "The student is Not Eligible for the company.\n",
            "--------------------\n",
            "Student: INFANTA\n",
            "Company: vais\n",
            "The student is Eligible for the company.\n",
            "--------------------\n",
            "Student: SAM\n",
            "Company: vais\n",
            "The student is Not Eligible for the company.\n",
            "--------------------\n",
            "Student: JOHN\n",
            "Company: vais\n",
            "The student is Not Eligible for the company.\n",
            "--------------------\n",
            "Student: SEBASTIN\n",
            "Company: vais\n",
            "The student is Eligible for the company.\n",
            "--------------------\n",
            "Student: RAYAPPAN\n",
            "Company: vais\n",
            "The student is Not Eligible for the company.\n",
            "--------------------\n",
            "Student: EDWIN\n",
            "Company: vais\n",
            "The student is Eligible for the company.\n",
            "--------------------\n",
            "Student: NIRMALA\n",
            "Company: vais\n",
            "The student is Not Eligible for the company.\n",
            "--------------------\n"
          ]
        }
      ],
      "source": [
        "\n",
        "from IPython import get_ipython\n",
        "from IPython.display import display\n",
        "import pandas as pd\n",
        "\n",
        "\n",
        "# Sample student data (replace with your actual data loading logic)\n",
        "student_data = pd.DataFrame({\n",
        "    'Name': ['BINU', 'ALLEN', 'INFANTA', 'SAM', 'JOHN', 'SEBASTIN', 'RAYAPPAN', 'EDWIN', 'NIRMALA'],\n",
        "    'CGPA': [8.5, 7.2, 9.0, 6.8, 9.0, 8.0, 9.5, 10.0, 6.5],\n",
        "    'Arrears': [0, 1, 0, 2, 3, 1, 4, 0, 1],\n",
        "    'Backlogs': [0, 0, 0, 1, 0, 0, 2, 0, 1]\n",
        "})\n",
        "\n",
        "\n",
        "# Function to check eligibility\n",
        "def check_eligibility(cgpa, arrears, backlogs, company_criteria):\n",
        "    if cgpa >= company_criteria['min_CGPA'] and \\\n",
        "       arrears <= company_criteria['max_Arrears'] and \\\n",
        "       backlogs <= company_criteria['max_Backlogs']:\n",
        "        return \"Eligible\"\n",
        "    else:\n",
        "        return \"Not Eligible\"\n",
        "\n",
        "\n",
        "# Main function to process data\n",
        "def main():\n",
        "    # Get user input for company criteria\n",
        "    company_name = input(\"Enter company name: \")\n",
        "    min_CGPA = float(input(\"Enter minimum CGPA required: \"))\n",
        "    max_Arrears = int(input(\"Enter maximum arrears allowed: \"))\n",
        "    max_Backlogs = int(input(\"Enter maximum backlogs allowed: \"))\n",
        "\n",
        "    company_criteria = {\n",
        "        'min_CGPA': min_CGPA,\n",
        "        'max_Arrears': max_Arrears,\n",
        "        'max_Backlogs': max_Backlogs\n",
        "    }\n",
        "\n",
        "    # Iterate through the sample student data\n",
        "    for index, row in student_data.iterrows():\n",
        "        student_name = row['Name']\n",
        "        student_cgpa = row['CGPA']\n",
        "        student_arrears = row['Arrears']\n",
        "        student_backlogs = row['Backlogs']\n",
        "\n",
        "        eligibility = check_eligibility(student_cgpa, student_arrears, student_backlogs, company_criteria)\n",
        "\n",
        "        print(f\"Student: {student_name}\")\n",
        "        print(f\"Company: {company_name}\")\n",
        "        print(f\"The student is {eligibility} for the company.\")\n",
        "        print(\"-\" * 20)  # Separator between students\n",
        "\n",
        "\n",
        "if __name__ == \"__main__\":\n",
        "    main()\n"
      ]
    }
  ]
}