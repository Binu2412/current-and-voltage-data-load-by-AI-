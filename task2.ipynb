{
  "nbformat": 4,
  "nbformat_minor": 0,
  "metadata": {
    "colab": {
      "provenance": [],
      "authorship_tag": "ABX9TyOSeym07d44h28GQxllpUVg",
      "include_colab_link": true
    },
    "kernelspec": {
      "name": "python3",
      "display_name": "Python 3"
    },
    "language_info": {
      "name": "python"
    }
  },
  "cells": [
    {
      "cell_type": "markdown",
      "metadata": {
        "id": "view-in-github",
        "colab_type": "text"
      },
      "source": [
        "<a href=\"https://colab.research.google.com/github/Binu2412/current-and-voltage-data-load-by-AI-/blob/main/task2.ipynb\" target=\"_parent\"><img src=\"https://colab.research.google.com/assets/colab-badge.svg\" alt=\"Open In Colab\"/></a>"
      ]
    },
    {
      "cell_type": "code",
      "source": [
        "from IPython import get_ipython\n",
        "from IPython.display import display\n",
        "import pandas as pd"
      ],
      "metadata": {
        "id": "PAPtf3ERSLI_"
      },
      "execution_count": 13,
      "outputs": []
    },
    {
      "cell_type": "code",
      "source": [
        "\n",
        "# Load student data\n",
        "def load_student_data(file_path):\n",
        "    # Read and clean CSV (adjust columns according to your data structure)\n",
        "    df = pd.read_csv(file_path)\n",
        "    return df\n",
        "\n",
        "# Function to check eligibility\n",
        "def check_eligibility(cgpa, arrears, backlogs, company_criteria):\n",
        "    if cgpa >= company_criteria['min_cgpa'] and \\\n",
        "       arrears <= company_criteria['max_arrears'] and \\\n",
        "       backlogs <= company_criteria['max_backlogs']:\n",
        "        return \"Eligible\"\n",
        "    else:\n",
        "        return \"Not Eligible\"\n",
        "\n",
        "# Main function to process data\n",
        "def main():\n",
        "    # Get user input for criteria\n",
        "    min_cgpa = float(input(\"Enter minimum CGPA required: \"))\n",
        "    max_arrears = int(input(\"Enter maximum arrears allowed: \"))\n",
        "    max_backlogs = int(input(\"Enter maximum backlogs allowed: \"))\n",
        "\n",
        "    company_criteria = {\n",
        "        'min_cgpa': min_cgpa,\n",
        "        'max_arrears': max_arrears,\n",
        "        'max_backlogs': max_backlogs\n",
        "    }\n",
        "\n",
        "    # Path to your CSV file\n",
        "    student_data_file = input(\"Enter the path to your student data CSV file: \")\n",
        "\n",
        "    # Load student data\n",
        "    student_data = load_student_data(student_data_file)"
      ],
      "metadata": {
        "id": "hZZON-V-SQqs"
      },
      "execution_count": 14,
      "outputs": []
    },
    {
      "cell_type": "code",
      "source": [
        "# Assuming load_student_data is already defined to load a CSV into a DataFrame\n",
        "\n",
        "# Get the path to the CSV file from user input\n",
        "student_data_file = input(\"Enter the path to your student data CSV file: \")\n",
        "\n",
        "# Call the function with the file path to get the DataFrame\n",
        "student_data = load_student_data(student_data_file)\n",
        "\n",
        "# Access the 'CGPA', 'arrears', and 'backlogs' columns from the DataFrame\n",
        "cgpa = student_data['CGPA']  # Access the 'CGPA' column from the DataFrame\n",
        "arrears = student_data['arrears']  # Access the 'arrears' column from the DataFrame\n",
        "backlogs = student_data['backlogs']  # Access the 'backlogs' column from the DataFrame\n",
        "\n",
        "print(\"CGPA column data:\")\n",
        "print(cgpa)\n",
        "\n",
        "print(\"Arrears column data:\")\n",
        "print(arrears)\n",
        "\n",
        "print(\"Backlogs column data:\")\n",
        "print(backlogs)\n"
      ],
      "metadata": {
        "colab": {
          "base_uri": "https://localhost:8080/",
          "height": 373
        },
        "id": "UHpZWmYdWByp",
        "outputId": "5d92c872-6d79-4bb4-8d94-97d5e55a4e0e"
      },
      "execution_count": 30,
      "outputs": [
        {
          "output_type": "error",
          "ename": "KeyboardInterrupt",
          "evalue": "Interrupted by user",
          "traceback": [
            "\u001b[0;31m---------------------------------------------------------------------------\u001b[0m",
            "\u001b[0;31mKeyboardInterrupt\u001b[0m                         Traceback (most recent call last)",
            "\u001b[0;32m<ipython-input-30-0709f6a039bd>\u001b[0m in \u001b[0;36m<cell line: 4>\u001b[0;34m()\u001b[0m\n\u001b[1;32m      2\u001b[0m \u001b[0;34m\u001b[0m\u001b[0m\n\u001b[1;32m      3\u001b[0m \u001b[0;31m# Get the path to the CSV file from user input\u001b[0m\u001b[0;34m\u001b[0m\u001b[0;34m\u001b[0m\u001b[0m\n\u001b[0;32m----> 4\u001b[0;31m \u001b[0mstudent_data_file\u001b[0m \u001b[0;34m=\u001b[0m \u001b[0minput\u001b[0m\u001b[0;34m(\u001b[0m\u001b[0;34m\"Enter the path to your student data CSV file: \"\u001b[0m\u001b[0;34m)\u001b[0m\u001b[0;34m\u001b[0m\u001b[0;34m\u001b[0m\u001b[0m\n\u001b[0m\u001b[1;32m      5\u001b[0m \u001b[0;34m\u001b[0m\u001b[0m\n\u001b[1;32m      6\u001b[0m \u001b[0;31m# Call the function with the file path to get the DataFrame\u001b[0m\u001b[0;34m\u001b[0m\u001b[0;34m\u001b[0m\u001b[0m\n",
            "\u001b[0;32m/usr/local/lib/python3.10/dist-packages/ipykernel/kernelbase.py\u001b[0m in \u001b[0;36mraw_input\u001b[0;34m(self, prompt)\u001b[0m\n\u001b[1;32m    849\u001b[0m                 \u001b[0;34m\"raw_input was called, but this frontend does not support input requests.\"\u001b[0m\u001b[0;34m\u001b[0m\u001b[0;34m\u001b[0m\u001b[0m\n\u001b[1;32m    850\u001b[0m             )\n\u001b[0;32m--> 851\u001b[0;31m         return self._input_request(str(prompt),\n\u001b[0m\u001b[1;32m    852\u001b[0m             \u001b[0mself\u001b[0m\u001b[0;34m.\u001b[0m\u001b[0m_parent_ident\u001b[0m\u001b[0;34m,\u001b[0m\u001b[0;34m\u001b[0m\u001b[0;34m\u001b[0m\u001b[0m\n\u001b[1;32m    853\u001b[0m             \u001b[0mself\u001b[0m\u001b[0;34m.\u001b[0m\u001b[0m_parent_header\u001b[0m\u001b[0;34m,\u001b[0m\u001b[0;34m\u001b[0m\u001b[0;34m\u001b[0m\u001b[0m\n",
            "\u001b[0;32m/usr/local/lib/python3.10/dist-packages/ipykernel/kernelbase.py\u001b[0m in \u001b[0;36m_input_request\u001b[0;34m(self, prompt, ident, parent, password)\u001b[0m\n\u001b[1;32m    893\u001b[0m             \u001b[0;32mexcept\u001b[0m \u001b[0mKeyboardInterrupt\u001b[0m\u001b[0;34m:\u001b[0m\u001b[0;34m\u001b[0m\u001b[0;34m\u001b[0m\u001b[0m\n\u001b[1;32m    894\u001b[0m                 \u001b[0;31m# re-raise KeyboardInterrupt, to truncate traceback\u001b[0m\u001b[0;34m\u001b[0m\u001b[0;34m\u001b[0m\u001b[0m\n\u001b[0;32m--> 895\u001b[0;31m                 \u001b[0;32mraise\u001b[0m \u001b[0mKeyboardInterrupt\u001b[0m\u001b[0;34m(\u001b[0m\u001b[0;34m\"Interrupted by user\"\u001b[0m\u001b[0;34m)\u001b[0m \u001b[0;32mfrom\u001b[0m \u001b[0;32mNone\u001b[0m\u001b[0;34m\u001b[0m\u001b[0;34m\u001b[0m\u001b[0m\n\u001b[0m\u001b[1;32m    896\u001b[0m             \u001b[0;32mexcept\u001b[0m \u001b[0mException\u001b[0m \u001b[0;32mas\u001b[0m \u001b[0me\u001b[0m\u001b[0;34m:\u001b[0m\u001b[0;34m\u001b[0m\u001b[0;34m\u001b[0m\u001b[0m\n\u001b[1;32m    897\u001b[0m                 \u001b[0mself\u001b[0m\u001b[0;34m.\u001b[0m\u001b[0mlog\u001b[0m\u001b[0;34m.\u001b[0m\u001b[0mwarning\u001b[0m\u001b[0;34m(\u001b[0m\u001b[0;34m\"Invalid Message:\"\u001b[0m\u001b[0;34m,\u001b[0m \u001b[0mexc_info\u001b[0m\u001b[0;34m=\u001b[0m\u001b[0;32mTrue\u001b[0m\u001b[0;34m)\u001b[0m\u001b[0;34m\u001b[0m\u001b[0;34m\u001b[0m\u001b[0m\n",
            "\u001b[0;31mKeyboardInterrupt\u001b[0m: Interrupted by user"
          ]
        }
      ]
    }
  ]
}